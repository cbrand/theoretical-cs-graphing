{
 "metadata": {
  "name": "",
  "signature": "sha256:8c4750c2641c814198362b132d91f18fdb9d929ab8e85cc79b70d276231ccdd4"
 },
 "nbformat": 3,
 "nbformat_minor": 0,
 "worksheets": [
  {
   "cells": [
    {
     "cell_type": "raw",
     "metadata": {},
     "source": [
      "# 9 Knotendefinitionen, A bis I\n",
      "knoten A 1\n",
      "knoten B 2 \n",
      "knoten C 3\n",
      "knoten D 4\n",
      "knoten E 5\n",
      "knoten F 6\n",
      "knoten G 7\n",
      "knoten H 8\n",
      "knoten I 9\n",
      "\n",
      "# Kantendefinitionen \n",
      "kante A B 2\n",
      "kante A F 9\n",
      "kante A G 15\n",
      "kante B C 4\n",
      "kante B G 6\n",
      "kante C D 2\n",
      "kante C I 15\n",
      "kante D E 1\n",
      "kante D I 1\n",
      "kante E F 6\n",
      "kante E H 3\n",
      "kante F H 11\n",
      "kante G H 15\n",
      "kante G I 2\n",
      "kante H I 4"
     ]
    },
    {
     "cell_type": "code",
     "collapsed": false,
     "input": [
      "%matplotlib inline\n",
      "import matplotlib.pyplot as plt\n",
      "\n",
      "from networkx import Graph, draw\n",
      "\n",
      "from scnet.grapher.reader import Reader\n",
      "from scnet.grapher.graph.drawer import GraphDrawer"
     ],
     "language": "python",
     "metadata": {},
     "outputs": [],
     "prompt_number": 1
    },
    {
     "cell_type": "code",
     "collapsed": false,
     "input": [
      "from io import StringIO\n",
      "graph = Reader(StringIO(\"\"\"\n",
      "# 9 Knotendefinitionen, A bis I\n",
      "knoten A\n",
      "knoten B \n",
      "knoten C\n",
      "knoten D\n",
      "knoten E\n",
      "knoten F\n",
      "knoten G\n",
      "knoten H\n",
      "knoten I\n",
      "\n",
      "# Kantendefinitionen \n",
      "kante A B 2\n",
      "kante A F 9\n",
      "kante A G 15\n",
      "kante B C 4\n",
      "kante B G 6\n",
      "kante C D 2\n",
      "kante C I 15\n",
      "kante D E 1\n",
      "kante D I 1\n",
      "kante E F 6\n",
      "kante E H 3\n",
      "kante F H 11\n",
      "kante G H 15\n",
      "kante G I 2\n",
      "kante H I 4\n",
      "\"\"\")).parse()\n",
      "GraphDrawer().show()"
     ],
     "language": "python",
     "metadata": {},
     "outputs": [
      {
       "metadata": {},
       "output_type": "display_data",
       "png": "[encoded data removed]",
       "text": [
        "<matplotlib.figure.Figure at 0x11063ebd0>"
       ]
      }
     ],
     "prompt_number": 7
    },
    {
     "cell_type": "code",
     "collapsed": false,
     "input": [
      "from scnet.grapher.algorithms.dijkstra_algorithm import DijkstraAlgorithm\n",
      "algorithm = DijkstraAlgorithm(graph, 'A','D')\n",
      "algorithm.run()"
     ],
     "language": "python",
     "metadata": {},
     "outputs": [
      {
       "metadata": {},
       "output_type": "pyout",
       "prompt_number": 8,
       "text": [
        "[<Node A>, <Node B>, <Node C>, <Node D>]"
       ]
      }
     ],
     "prompt_number": 8
    },
    {
     "cell_type": "code",
     "collapsed": false,
     "input": [
      "import pprint;pprint.pprint(algorithm.distances)"
     ],
     "language": "python",
     "metadata": {},
     "outputs": [
      {
       "output_type": "stream",
       "stream": "stdout",
       "text": [
        "{<Node I>: {'from_node': <Node G>, 'weight': 10},\n",
        " <Node A>: {'from_node': None, 'weight': 0},\n",
        " <Node C>: {'from_node': <Node B>, 'weight': 6},\n",
        " <Node B>: {'from_node': <Node A>, 'weight': 2},\n",
        " <Node G>: {'from_node': <Node B>, 'weight': 8},\n",
        " <Node D>: {'from_node': <Node C>, 'weight': 8},\n",
        " <Node F>: {'from_node': <Node A>, 'weight': 9},\n",
        " <Node H>: {'from_node': <Node G>, 'weight': 23}}\n"
       ]
      }
     ],
     "prompt_number": 9
    },
    {
     "cell_type": "code",
     "collapsed": false,
     "input": [
      "from scnet.grapher.algorithms.dijkstra_algorithm import DijkstraAlgorithm\n",
      "algorithm = DijkstraAlgorithm(graph, 'H','B')\n",
      "algorithm.run()"
     ],
     "language": "python",
     "metadata": {},
     "outputs": [
      {
       "metadata": {},
       "output_type": "pyout",
       "prompt_number": 10,
       "text": [
        "[<Node H>, <Node E>, <Node D>, <Node C>, <Node B>]"
       ]
      }
     ],
     "prompt_number": 10
    },
    {
     "cell_type": "code",
     "collapsed": false,
     "input": [
      "import pprint;pprint.pprint(algorithm.distances)"
     ],
     "language": "python",
     "metadata": {},
     "outputs": [
      {
       "output_type": "stream",
       "stream": "stdout",
       "text": [
        "{<Node I>: {'from_node': <Node H>, 'weight': 4},\n",
        " <Node A>: {'from_node': <Node F>, 'weight': 18},\n",
        " <Node C>: {'from_node': <Node D>, 'weight': 6},\n",
        " <Node B>: {'from_node': <Node C>, 'weight': 10},\n",
        " <Node E>: {'from_node': <Node H>, 'weight': 3},\n",
        " <Node G>: {'from_node': <Node I>, 'weight': 6},\n",
        " <Node D>: {'from_node': <Node E>, 'weight': 4},\n",
        " <Node F>: {'from_node': <Node E>, 'weight': 9},\n",
        " <Node H>: {'from_node': None, 'weight': 0}}\n"
       ]
      }
     ],
     "prompt_number": 11
    }
   ],
   "metadata": {}
  }
 ]
}
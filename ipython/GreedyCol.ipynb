{
 "metadata": {
  "name": "",
  "signature": "sha256:a0b2c9aa54d8f99781d9e27c6656116126dd669779c383048b24d09a5c9f3e43"
 },
 "nbformat": 3,
 "nbformat_minor": 0,
 "worksheets": []
}
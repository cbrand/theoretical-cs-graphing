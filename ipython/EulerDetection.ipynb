{
 "metadata": {
  "name": ""
 },
 "nbformat": 3,
 "nbformat_minor": 0,
 "worksheets": [
  {
   "cells": [
    {
     "cell_type": "code",
     "collapsed": false,
     "input": [
      "%matplotlib inline\n",
      "import matplotlib.pyplot as plt\n",
      "\n",
      "from scnet.grapher.reader import Reader\n",
      "from scnet.grapher.graph.drawer import GraphDrawer"
     ],
     "language": "python",
     "metadata": {},
     "outputs": [],
     "prompt_number": 1
    },
    {
     "cell_type": "code",
     "collapsed": false,
     "input": [
      "from scnet.grapher.detection import EulerPath, EulerCycle"
     ],
     "language": "python",
     "metadata": {},
     "outputs": [],
     "prompt_number": 3
    },
    {
     "cell_type": "heading",
     "level": 1,
     "metadata": {},
     "source": [
      "Euler 1.txt"
     ]
    },
    {
     "cell_type": "raw",
     "metadata": {},
     "source": [
      "# 8 Knotendefinitionen, A bis H\n",
      "knoten A\n",
      "knoten B\n",
      "knoten C\n",
      "knoten D\n",
      "knoten E\n",
      "knoten F\n",
      "knoten G\n",
      "knoten H\n",
      "\n",
      "# Kantendefinitionen \n",
      "kante A B \n",
      "kante A D\n",
      "kante A E\n",
      "kante B C\n",
      "kante B E\n",
      "kante B D\n",
      "kante B F\n",
      "kante C F\n",
      "kante C E\n",
      "kante D E\n",
      "kante D G\n",
      "kante E F\n",
      "kante E G\n",
      "kante E H\n",
      "kante F H"
     ]
    },
    {
     "cell_type": "code",
     "collapsed": false,
     "input": [
      "import io\n",
      "reader = Reader(io.StringIO(\"\"\"# 8 Knotendefinitionen, A bis H\n",
      "knoten A\n",
      "knoten B\n",
      "knoten C\n",
      "knoten D\n",
      "knoten E\n",
      "knoten F\n",
      "knoten G\n",
      "knoten H\n",
      "\n",
      "# Kantendefinitionen \n",
      "kante A B \n",
      "kante A D\n",
      "kante A E\n",
      "kante B C\n",
      "kante B E\n",
      "kante B D\n",
      "kante B F\n",
      "kante C F\n",
      "kante C E\n",
      "kante D E\n",
      "kante D G\n",
      "kante E F\n",
      "kante E G\n",
      "kante E H\n",
      "kante F H\"\"\"))\n",
      "graph = reader.parse()"
     ],
     "language": "python",
     "metadata": {},
     "outputs": [],
     "prompt_number": 27
    },
    {
     "cell_type": "code",
     "collapsed": false,
     "input": [
      "graph_drawer = GraphDrawer(graph.edge_store, graph.node_store)\n",
      "graph_drawer.show()"
     ],
     "language": "python",
     "metadata": {},
     "outputs": [
      {
       "metadata": {},
       "output_type": "display_data",
       "png": "[encoded data removed]",
       "text": [
        "<matplotlib.figure.Figure at 0x7fb8480a21d0>"
       ]
      }
     ],
     "prompt_number": 34
    },
    {
     "cell_type": "code",
     "collapsed": false,
     "input": [
      "EulerPath(graph).detect()"
     ],
     "language": "python",
     "metadata": {},
     "outputs": [
      {
       "metadata": {},
       "output_type": "pyout",
       "prompt_number": 8,
       "text": [
        "False"
       ]
      }
     ],
     "prompt_number": 8
    },
    {
     "cell_type": "code",
     "collapsed": false,
     "input": [
      "EulerCycle(graph).detect()"
     ],
     "language": "python",
     "metadata": {},
     "outputs": [
      {
       "metadata": {},
       "output_type": "pyout",
       "prompt_number": 9,
       "text": [
        "False"
       ]
      }
     ],
     "prompt_number": 9
    },
    {
     "cell_type": "heading",
     "level": 1,
     "metadata": {},
     "source": [
      "Euler 2.txt"
     ]
    },
    {
     "cell_type": "raw",
     "metadata": {},
     "source": [
      "# 5 Knotendefinitionen, A bis E\n",
      "knoten A\n",
      "knoten B\n",
      "knoten C\n",
      "knoten D\n",
      "knoten E\n",
      "\n",
      "# Kantendefinitionen \n",
      "kante A B\n",
      "kante A C\n",
      "kante A D\n",
      "kante B C\n",
      "kante B D\n",
      "kante C E\n",
      "kante C D\n",
      "kante D E"
     ]
    },
    {
     "cell_type": "code",
     "collapsed": false,
     "input": [
      "import io\n",
      "reader = Reader(io.StringIO(\"\"\"# 5 Knotendefinitionen, A bis E\n",
      "knoten A\n",
      "knoten B\n",
      "knoten C\n",
      "knoten D\n",
      "knoten E\n",
      "\n",
      "# Kantendefinitionen \n",
      "kante A B\n",
      "kante A C\n",
      "kante A D\n",
      "kante B C\n",
      "kante B D\n",
      "kante C E\n",
      "kante C D\n",
      "kante D E\"\"\"))\n",
      "graph = reader.parse()"
     ],
     "language": "python",
     "metadata": {},
     "outputs": [],
     "prompt_number": 10
    },
    {
     "cell_type": "code",
     "collapsed": false,
     "input": [
      "graph_drawer = GraphDrawer(graph.edge_store, graph.node_store)\n",
      "graph_drawer.show()"
     ],
     "language": "python",
     "metadata": {},
     "outputs": [
      {
       "metadata": {},
       "output_type": "display_data",
       "png": "[encoded data removed]",
       "text": [
        "<matplotlib.figure.Figure at 0x7fb84811ac90>"
       ]
      }
     ],
     "prompt_number": 11
    },
    {
     "cell_type": "code",
     "collapsed": false,
     "input": [
      "EulerPath(graph).detect()"
     ],
     "language": "python",
     "metadata": {},
     "outputs": [
      {
       "metadata": {},
       "output_type": "pyout",
       "prompt_number": 12,
       "text": [
        "True"
       ]
      }
     ],
     "prompt_number": 12
    },
    {
     "cell_type": "code",
     "collapsed": false,
     "input": [
      "EulerCycle(graph).detect()"
     ],
     "language": "python",
     "metadata": {},
     "outputs": [
      {
       "metadata": {},
       "output_type": "pyout",
       "prompt_number": 13,
       "text": [
        "False"
       ]
      }
     ],
     "prompt_number": 13
    },
    {
     "cell_type": "heading",
     "level": 1,
     "metadata": {},
     "source": [
      "Detection Code"
     ]
    },
    {
     "cell_type": "code",
     "collapsed": false,
     "input": [
      "from scnet.grapher.detection.euler_cycle import EulerCycleDetection\n",
      "\n",
      "\n",
      "class EulerPathDetection(EulerCycleDetection):\n",
      "    \"\"\"\n",
      "    Tests the given graph has an euler path.\n",
      "    \"\"\"\n",
      "\n",
      "    def detect(self) -> bool:\n",
      "        \"\"\"\n",
      "        Returns if the given graph has an euler\n",
      "        path.\n",
      "        \"\"\"\n",
      "        number_odd = self.count_nodes_with_odd_edges()\n",
      "        return self.is_cohesive() and number_odd in (0, 2)\n",
      "\n",
      "    def count_nodes_with_odd_edges(self):\n",
      "        \"\"\"\n",
      "        Returns the amount of nodes which have an odd\n",
      "        number of edges.\n",
      "        \"\"\"\n",
      "        odd_checker = self.ODD_NODES_EDGES_NUMBER_CLASS(self.graph)\n",
      "        return odd_checker.count_odd()"
     ],
     "language": "python",
     "metadata": {},
     "outputs": [],
     "prompt_number": 20
    },
    {
     "cell_type": "code",
     "collapsed": false,
     "input": [
      "from .abstract import AbstractDetection\n",
      "from .cohesive_graph import CohesiveGraphDetection\n",
      "from .odd_nodes_edges_number import OddNodeEdgesNumberDetection\n",
      "\n",
      "\n",
      "class EulerCycleDetection(AbstractDetection):\n",
      "    \"\"\"\n",
      "    Tests if the given graph has an euler cycle.\n",
      "    \"\"\"\n",
      "\n",
      "    COHESIVE_DETECTION_CLASS = CohesiveGraphDetection\n",
      "    ODD_NODES_EDGES_NUMBER_CLASS = OddNodeEdgesNumberDetection\n",
      "\n",
      "    def detect(self) -> bool:\n",
      "        \"\"\"\n",
      "        Returns if the given graph has an euler\n",
      "        cycle.\n",
      "        \"\"\"\n",
      "        return self.is_cohesive() and not self.has_odd_nodes()\n",
      "\n",
      "    def is_cohesive(self) -> bool:\n",
      "        \"\"\"\n",
      "        Returns if the entry is cohesive.\n",
      "        \"\"\"\n",
      "        cohesive_detection = self.COHESIVE_DETECTION_CLASS(self.graph)\n",
      "        return cohesive_detection.detect()\n",
      "\n",
      "    def has_odd_nodes(self) -> bool:\n",
      "        \"\"\"\n",
      "        Returns if a node in the query has an odd number of\n",
      "        relations.\n",
      "        \"\"\"\n",
      "        odd_edges_detection = self.ODD_NODES_EDGES_NUMBER_CLASS(self.graph)\n",
      "        return odd_edges_detection.detect()"
     ],
     "language": "python",
     "metadata": {},
     "outputs": [],
     "prompt_number": 21
    },
    {
     "cell_type": "code",
     "collapsed": false,
     "input": [
      "import collections\n",
      "\n",
      "from .abstract import AbstractDetection\n",
      "\n",
      "\n",
      "class CohesiveGraphDetection(AbstractDetection):\n",
      "    \"\"\"\n",
      "    Checks if the graph is combined and there\n",
      "    are no non interconnected clusters in\n",
      "    the path.\n",
      "    \"\"\"\n",
      "\n",
      "    def detect(self):\n",
      "        \"\"\"\n",
      "        Returns if the given graph is cohesive/\n",
      "        coherent.\n",
      "        \"\"\"\n",
      "        node_store = self._node_store\n",
      "        if len(node_store) == 0:\n",
      "            return True\n",
      "        node = node_store.one()\n",
      "        seen = {node}\n",
      "        to_process = collections.deque((node,))\n",
      "        while len(to_process):\n",
      "            node = to_process.popleft()\n",
      "            for edge in node.edges:\n",
      "                for node in edge.nodes:\n",
      "                    if node not in seen:\n",
      "                        to_process.append(node)\n",
      "                        seen.add(node)\n",
      "                    else:\n",
      "                        pass\n",
      "        return len(seen) == len(node_store)"
     ],
     "language": "python",
     "metadata": {},
     "outputs": []
    },
    {
     "cell_type": "code",
     "collapsed": false,
     "input": [
      "from .abstract import AbstractDetection\n",
      "\n",
      "\n",
      "class OddNodeEdgesNumberDetection(AbstractDetection):\n",
      "    \"\"\"\n",
      "    Checks if the graph has any nodes with an odd number\n",
      "    of edges.\n",
      "    \"\"\"\n",
      "\n",
      "    def detect(self):\n",
      "        \"\"\"\n",
      "        Returns if the given graph is cohesive/\n",
      "        coherent.\n",
      "        \"\"\"\n",
      "        for node in self._node_store:\n",
      "            if len(node.edges) % 2 == 1:\n",
      "                return True\n",
      "            else:\n",
      "                pass\n",
      "        return False\n",
      "\n",
      "    def count_odd(self):\n",
      "        \"\"\"\n",
      "        Returns the number of nodes which have an odd amount\n",
      "        of edges in the given graph.\n",
      "        \"\"\"\n",
      "        i = 0\n",
      "        for node in self._node_store:\n",
      "            if len(node.edges) % 2 == 1:\n",
      "                i += 1\n",
      "            else:\n",
      "                pass\n",
      "        return i"
     ],
     "language": "python",
     "metadata": {},
     "outputs": []
    },
    {
     "cell_type": "code",
     "collapsed": false,
     "input": [
      "from scnet.grapher.interfaces.graph import IGraph\n",
      "from scnet.grapher.interfaces.node_store import INodeStore\n",
      "from scnet.grapher.interfaces.edge_store import IEdgeStore\n",
      "\n",
      "\n",
      "class AbstractDetection(object):\n",
      "    \"\"\"\n",
      "    Abstract object which has functions\n",
      "    to be used in graph detection algorithms.\n",
      "    \"\"\"\n",
      "\n",
      "    def __init__(self, graph: IGraph):\n",
      "        self.graph = graph\n",
      "\n",
      "    @property\n",
      "    def _node_store(self) -> INodeStore:\n",
      "        return self.graph.node_store\n",
      "\n",
      "    @property\n",
      "    def _edge_store(self) -> IEdgeStore:\n",
      "        return self.graph.edge_store"
     ],
     "language": "python",
     "metadata": {},
     "outputs": []
    }
   ],
   "metadata": {}
  }
 ]
}